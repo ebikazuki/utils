{
 "cells": [
  {
   "cell_type": "code",
   "execution_count": null,
   "metadata": {},
   "outputs": [],
   "source": [
    "\n",
    "X_DIR = \"input\" \n",
    "\n",
    "set_seed(0)\n",
    "set_gpu(0)\n",
    "\n",
    "X,y = read_img_path(X_DIR) #パス読み込み\n",
    "train,test = split_data(X,y)\n",
    "dataset = tf.data.Dataset.from_tensor_slices(tf.range(10)).map()\n",
    "# preprocess = build_preprocess(resize=(224,224),func1,func2) #前処理\n",
    "# train = build_generator(train,preprocess.exec) #前処理とジェネレータ\n",
    "model = build_model()\n",
    "@cv\n",
    "model.fit(X,y)\n",
    "\n"
   ]
  },
  {
   "cell_type": "code",
   "execution_count": null,
   "metadata": {},
   "outputs": [],
   "source": [
    "import os\n",
    "import cv2\n",
    "import numpy as np\n",
    "import tensorflow as tf\n",
    "\n",
    "# 画像パスのリストを引数として、画像のnumpy配列をバッチで吐き出すgeneratorを作成する関数\n",
    "def image_data_generator(image_paths, batch_size=32, image_size=(224, 224)):\n",
    "    # 画像パスをテンソルに変換\n",
    "    image_paths_tensor = tf.constant(image_paths)\n",
    "    \n",
    "    # データセットを作成\n",
    "    dataset = tf.data.Dataset.from_tensor_slices(image_paths_tensor)\n",
    "    \n",
    "    def load_and_preprocess_image(image_path):\n",
    "        # 画像読み込み\n",
    "        img = tf.io.read_file(image_path)\n",
    "        # 画像デコード\n",
    "        img = tf.image.decode_jpeg(img, channels=3)\n",
    "        # リサイズ\n",
    "        img = tf.image.resize(img, image_size)\n",
    "        # 正規化\n",
    "        img = img / 255.0\n",
    "        return img\n",
    "    \n",
    "    # 画像読み込みと前処理を適用\n",
    "    dataset = dataset.map(load_and_preprocess_image)\n",
    "    \n",
    "    # バッチサイズごとにデータを取得\n",
    "    dataset = dataset.batch(batch_size)\n",
    "    \n",
    "    return dataset\n",
    "\n",
    "# 画像パスのリスト（例として3つの画像パスを使用）\n",
    "image_paths = [\"image1.jpg\", \"image2.jpg\", \"image3.jpg\"]\n",
    "\n",
    "# generatorを作成\n",
    "batch_size = 2\n",
    "image_generator = image_data_generator(image_paths, batch_size=batch_size)\n",
    "\n",
    "# バッチごとに画像を表示\n",
    "for batch in image_generator:\n",
    "    print(f\"Batch shape: {batch.shape}\")\n",
    "    # 画像のnumpy配列を使ってモデルの学習などを行うことができます\n",
    "    # ここでは表示のためにバッチの形状を表示しています\n",
    "    break\n"
   ]
  }
 ],
 "metadata": {
  "language_info": {
   "name": "python"
  }
 },
 "nbformat": 4,
 "nbformat_minor": 2
}

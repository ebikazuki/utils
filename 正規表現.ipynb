{
 "cells": [
  {
   "cell_type": "markdown",
   "metadata": {},
   "source": [
    "# 正規表現"
   ]
  },
  {
   "cell_type": "markdown",
   "metadata": {},
   "source": [
    "### メタ文字\n",
    "- prev`.`: \\n以外の1文字\n",
    "- prev`*`: 任意数の直前文字\n",
    "- prev`+`: １個以上の直前文字\n",
    "- prev`?`: 0個か1個の直前文字\n",
    "- prev`{m,n}`: m個以上任意数の直前文字\n",
    "- `^`: 先頭アンカー\n",
    "- `$`: 末尾アンカー\n",
    "- `|`: or\n",
    "- `[ab]`: aまたはb\n",
    "- `[^ab]`: aまたはb以外\n",
    "- prev `(?=next)`:nextが続くprev\n",
    "- prev `(?!=next)`:nextが続かないprev\n",
    "- `(?<=prev)`next:prevが前にあるnext\n",
    "- `(?<!prev)`next:prevが前にないnext\n",
    "\n",
    "\n",
    "\n",
    "### 特殊文字\n",
    "- `\\d`: 1個の数字\n",
    "- `\\D`: 1個の数字以外の文字\n",
    "- `\\w`: 1個のアルファベット \n",
    "- `\\W`: 1個のアルファベット以外\n",
    "- `\\s`: 1個の空白\n",
    "- `\\S`: 1個の空白以外\n",
    "- `\\b`: 単語の境界(\\wと\\Wとの間)\n",
    "- `\\B`: 単語の境界以外の文字間\n",
    "\n"
   ]
  },
  {
   "cell_type": "code",
   "execution_count": 37,
   "metadata": {},
   "outputs": [
    {
     "name": "stdout",
     "output_type": "stream",
     "text": [
      "0123456789abcdefghijklmnopqrstuvwxyzABCDEFGHIJKLMNOPQRSTUVWXYZ!\"#$%&'()*+,-./:;<=>?@[\\]^_`{|}~ \t\n",
      "\u000b\f\n"
     ]
    }
   ],
   "source": [
    "import re\n",
    "import string\n",
    "\n",
    "sample = string.printable\n",
    "print(sample)\n",
    "\n",
    "\n",
    "pattern = \"(.*abc.*)|(.*acc.*)\"\n",
    "m = re.match(pattern,sample)\n",
    "if m:\n",
    "    print(m.group())\n",
    "else:\n",
    "    print(\"m is NoneType object\")"
   ]
  },
  {
   "cell_type": "code",
   "execution_count": null,
   "metadata": {},
   "outputs": [],
   "source": [
    "\n",
    "pattern = \"(.*abc.*)|(.*acc.*)\"\n",
    "m = re.match(pattern,sample)\n",
    "if m:\n",
    "    print(m.group())\n",
    "else:\n",
    "    print(\"m is NoneType object\")"
   ]
  },
  {
   "cell_type": "code",
   "execution_count": null,
   "metadata": {},
   "outputs": [],
   "source": []
  }
 ],
 "metadata": {
  "kernelspec": {
   "display_name": "Python 3",
   "language": "python",
   "name": "python3"
  },
  "language_info": {
   "codemirror_mode": {
    "name": "ipython",
    "version": 3
   },
   "file_extension": ".py",
   "mimetype": "text/x-python",
   "name": "python",
   "nbconvert_exporter": "python",
   "pygments_lexer": "ipython3",
   "version": "3.12.4"
  }
 },
 "nbformat": 4,
 "nbformat_minor": 2
}
